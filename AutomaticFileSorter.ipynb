{
 "cells": [
  {
   "cell_type": "code",
   "execution_count": 18,
   "id": "ff90ee5b",
   "metadata": {},
   "outputs": [
    {
     "name": "stdout",
     "output_type": "stream",
     "text": [
      "Membuat folder: C:/Users/Ricki/Documents/AutomaticFileSorted/csv files\n",
      "Membuat folder: C:/Users/Ricki/Documents/AutomaticFileSorted/image files\n",
      "Membuat folder: C:/Users/Ricki/Documents/AutomaticFileSorted/text files\n",
      "Membuat folder: C:/Users/Ricki/Documents/AutomaticFileSorted/pdf files\n"
     ]
    }
   ],
   "source": [
    "import os, shutil\n",
    "\n",
    "path = r\"C:/Users/Ricki/Documents/AutomaticFileSorted/\"\n",
    "\n",
    "# Tambahkan semua folder yang akan digunakan\n",
    "folder_names = ['csv files', 'image files', 'text files', 'pdf files']\n",
    "\n",
    "# Buat folder jika belum ada\n",
    "for folder in folder_names:\n",
    "    full_path = os.path.join(path, folder)\n",
    "    if not os.path.exists(full_path):\n",
    "        print(\"Membuat folder:\", full_path)\n",
    "        os.mkdir(full_path)\n",
    "\n",
    "# Ambil semua file di direktori utama\n",
    "file_name = os.listdir(path)\n",
    "\n",
    "# Pindahkan file sesuai ekstensi\n",
    "for file in file_name:\n",
    "    full_file_path = os.path.join(path, file)\n",
    "    if os.path.isfile(full_file_path):  # Lewati folder\n",
    "        if file.endswith('.csv') and not os.path.exists(path + \"csv files/\" + file):\n",
    "            shutil.move(full_file_path, path + \"csv files/\" + file)\n",
    "        elif file.endswith('.png') and not os.path.exists(path + \"image files/\" + file):\n",
    "            shutil.move(full_file_path, path + \"image files/\" + file)\n",
    "        elif file.endswith('.txt') and not os.path.exists(path + \"text files/\" + file):\n",
    "            shutil.move(full_file_path, path + \"text files/\" + file)\n",
    "        elif file.endswith('.pdf') and not os.path.exists(path + \"pdf files/\" + file):\n",
    "            shutil.move(full_file_path, path + \"pdf files/\" + file)\n"
   ]
  }
 ],
 "metadata": {
  "kernelspec": {
   "display_name": "base",
   "language": "python",
   "name": "python3"
  },
  "language_info": {
   "codemirror_mode": {
    "name": "ipython",
    "version": 3
   },
   "file_extension": ".py",
   "mimetype": "text/x-python",
   "name": "python",
   "nbconvert_exporter": "python",
   "pygments_lexer": "ipython3",
   "version": "3.12.7"
  }
 },
 "nbformat": 4,
 "nbformat_minor": 5
}
